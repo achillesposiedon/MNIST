{
 "cells": [
  {
   "cell_type": "code",
   "execution_count": 1,
   "metadata": {},
   "outputs": [
    {
     "name": "stderr",
     "output_type": "stream",
     "text": [
      "Using TensorFlow backend.\n"
     ]
    }
   ],
   "source": [
    "import pandas as pd\n",
    "import numpy as np\n",
    "import tensorflow as tf\n",
    "\n",
    "from keras.models import Sequential\n",
    "from keras.layers import Dense, Conv2D, Dropout, Flatten, MaxPooling2D\n",
    "from keras_preprocessing.image import ImageDataGenerator\n",
    "\n",
    "trdt=pd.read_csv('/home/aaftab/Github/MNIST/train.csv')\n",
    "tstdt=pd.read_csv('/home/aaftab/Github/MNIST/test.csv')"
   ]
  },
  {
   "cell_type": "code",
   "execution_count": 2,
   "metadata": {},
   "outputs": [
    {
     "name": "stdout",
     "output_type": "stream",
     "text": [
      "(42000, 785)\n",
      "(28000, 784)\n"
     ]
    }
   ],
   "source": [
    "print(trdt.shape)\n",
    "print(tstdt.shape)"
   ]
  },
  {
   "cell_type": "code",
   "execution_count": 6,
   "metadata": {
    "scrolled": true
   },
   "outputs": [],
   "source": [
    "xtrain=trdt.copy()\n",
    "xtrain.drop('label', axis=1, inplace=True)\n",
    "ytrain=trdt['label']\n",
    "xtest=tstdt.copy()\n",
    "\n",
    "data_generator = ImageDataGenerator(rescale=1./255,rotation_range=10,zoom_range=0.15,width_shift_range=0.1,height_shift_range=0.1)\n",
    "data_generator.fit(np.array(xtrain).reshape(42000,28,28,1))\n",
    "\n",
    "xtrain=np.array(xtrain)\n",
    "xtest=np.array(xtest)"
   ]
  },
  {
   "cell_type": "code",
   "execution_count": 7,
   "metadata": {},
   "outputs": [
    {
     "name": "stdout",
     "output_type": "stream",
     "text": [
      "WARNING:tensorflow:From /home/aaftab/anaconda3/lib/python3.7/site-packages/tensorflow_core/python/ops/resource_variable_ops.py:1630: calling BaseResourceVariable.__init__ (from tensorflow.python.ops.resource_variable_ops) with constraint is deprecated and will be removed in a future version.\n",
      "Instructions for updating:\n",
      "If using Keras pass *_constraint arguments to layers.\n",
      "WARNING:tensorflow:From /home/aaftab/anaconda3/lib/python3.7/site-packages/keras/backend/tensorflow_backend.py:4070: The name tf.nn.max_pool is deprecated. Please use tf.nn.max_pool2d instead.\n",
      "\n"
     ]
    }
   ],
   "source": [
    "model = Sequential()\n",
    "model.add(Conv2D(28, kernel_size=(3,3), input_shape=(28,28,1)))\n",
    "model.add(MaxPooling2D(pool_size=(2, 2)))\n",
    "model.add(Flatten()) # Flattening the 2D arrays for fully connected layers\n",
    "model.add(Dense(128, activation=tf.nn.relu))\n",
    "model.add(Dropout(0.2))\n",
    "model.add(Dense(10,activation=tf.nn.softmax))"
   ]
  },
  {
   "cell_type": "code",
   "execution_count": 8,
   "metadata": {
    "scrolled": true
   },
   "outputs": [
    {
     "name": "stdout",
     "output_type": "stream",
     "text": [
      "WARNING:tensorflow:From /home/aaftab/anaconda3/lib/python3.7/site-packages/keras/backend/tensorflow_backend.py:422: The name tf.global_variables is deprecated. Please use tf.compat.v1.global_variables instead.\n",
      "\n",
      "Epoch 1/10\n",
      "42000/42000 [==============================] - 32s 763us/step - loss: 1.0576 - accuracy: 0.8054\n",
      "Epoch 2/10\n",
      "42000/42000 [==============================] - 28s 668us/step - loss: 0.3455 - accuracy: 0.9044\n",
      "Epoch 3/10\n",
      "42000/42000 [==============================] - 24s 572us/step - loss: 0.2508 - accuracy: 0.9298\n",
      "Epoch 4/10\n",
      "42000/42000 [==============================] - 29s 696us/step - loss: 0.2292 - accuracy: 0.9365\n",
      "Epoch 5/10\n",
      "42000/42000 [==============================] - 25s 588us/step - loss: 0.1941 - accuracy: 0.9469\n",
      "Epoch 6/10\n",
      "42000/42000 [==============================] - 26s 629us/step - loss: 0.1859 - accuracy: 0.9494\n",
      "Epoch 7/10\n",
      "42000/42000 [==============================] - 29s 699us/step - loss: 0.1945 - accuracy: 0.9463\n",
      "Epoch 8/10\n",
      "42000/42000 [==============================] - 32s 771us/step - loss: 0.1483 - accuracy: 0.9577\n",
      "Epoch 9/10\n",
      "42000/42000 [==============================] - 29s 695us/step - loss: 0.1544 - accuracy: 0.9596\n",
      "Epoch 10/10\n",
      "42000/42000 [==============================] - 28s 670us/step - loss: 0.1540 - accuracy: 0.9583\n"
     ]
    }
   ],
   "source": [
    "model.compile(optimizer='adam', loss='sparse_categorical_crossentropy', metrics=['accuracy'])\n",
    "model.fit(x=xtrain.reshape(42000, 28, 28, 1),y=ytrain, epochs=10)\n",
    "\n",
    "pred = model.predict(xtest.reshape(28000, 28, 28, 1))\n",
    "pred=np.argmax(pred, axis=1)\n",
    "pred=pd.DataFrame(pred)\n",
    "pred.to_csv('pred.csv')"
   ]
  },
  {
   "cell_type": "code",
   "execution_count": 9,
   "metadata": {},
   "outputs": [
    {
     "name": "stdout",
     "output_type": "stream",
     "text": [
      "Epoch 1/15\n",
      "42000/42000 [==============================] - 32s 771us/step - loss: 0.1515 - accuracy: 0.9615\n",
      "Epoch 2/15\n",
      "42000/42000 [==============================] - 28s 665us/step - loss: 0.1546 - accuracy: 0.9604\n",
      "Epoch 3/15\n",
      "42000/42000 [==============================] - 29s 679us/step - loss: 0.1353 - accuracy: 0.9641\n",
      "Epoch 4/15\n",
      "42000/42000 [==============================] - 30s 705us/step - loss: 0.1294 - accuracy: 0.9664\n",
      "Epoch 5/15\n",
      "42000/42000 [==============================] - 32s 772us/step - loss: 0.1396 - accuracy: 0.9654\n",
      "Epoch 6/15\n",
      "42000/42000 [==============================] - 32s 771us/step - loss: 0.1370 - accuracy: 0.9655\n",
      "Epoch 7/15\n",
      "42000/42000 [==============================] - 36s 861us/step - loss: 0.1228 - accuracy: 0.9689\n",
      "Epoch 8/15\n",
      "42000/42000 [==============================] - 38s 898us/step - loss: 0.1273 - accuracy: 0.9684\n",
      "Epoch 9/15\n",
      "42000/42000 [==============================] - 35s 826us/step - loss: 0.1256 - accuracy: 0.9684\n",
      "Epoch 10/15\n",
      "42000/42000 [==============================] - 33s 778us/step - loss: 0.1280 - accuracy: 0.9681\n",
      "Epoch 11/15\n",
      "42000/42000 [==============================] - 35s 832us/step - loss: 0.1179 - accuracy: 0.9705\n",
      "Epoch 12/15\n",
      "42000/42000 [==============================] - 37s 879us/step - loss: 0.1320 - accuracy: 0.9689\n",
      "Epoch 13/15\n",
      "42000/42000 [==============================] - 37s 882us/step - loss: 0.1319 - accuracy: 0.9690\n",
      "Epoch 14/15\n",
      "42000/42000 [==============================] - 33s 780us/step - loss: 0.1210 - accuracy: 0.9696\n",
      "Epoch 15/15\n",
      "42000/42000 [==============================] - 36s 861us/step - loss: 0.1182 - accuracy: 0.9711\n"
     ]
    }
   ],
   "source": [
    "model.compile(optimizer='adam', loss='sparse_categorical_crossentropy', metrics=['accuracy'])\n",
    "model.fit(x=xtrain.reshape(42000, 28, 28, 1),y=ytrain, epochs=15)\n",
    "\n",
    "pred = model.predict(xtest.reshape(28000, 28, 28, 1))\n",
    "pred=np.argmax(pred, axis=1)\n",
    "pred=pd.DataFrame(pred)\n",
    "pred.to_csv('pred.csv')"
   ]
  },
  {
   "cell_type": "code",
   "execution_count": 10,
   "metadata": {
    "scrolled": true
   },
   "outputs": [
    {
     "name": "stdout",
     "output_type": "stream",
     "text": [
      "Epoch 1/15\n",
      "42000/42000 [==============================] - 37s 882us/step - loss: 0.6481 - accuracy: 0.8087\n",
      "Epoch 2/15\n",
      "42000/42000 [==============================] - 32s 773us/step - loss: 0.2612 - accuracy: 0.9217\n",
      "Epoch 3/15\n",
      "42000/42000 [==============================] - 35s 825us/step - loss: 0.1546 - accuracy: 0.9534\n",
      "Epoch 4/15\n",
      "42000/42000 [==============================] - 36s 848us/step - loss: 0.1039 - accuracy: 0.9670\n",
      "Epoch 5/15\n",
      "42000/42000 [==============================] - 34s 804us/step - loss: 0.0751 - accuracy: 0.9777\n",
      "Epoch 6/15\n",
      "42000/42000 [==============================] - 34s 809us/step - loss: 0.0589 - accuracy: 0.9813\n",
      "Epoch 7/15\n",
      "42000/42000 [==============================] - 35s 843us/step - loss: 0.0486 - accuracy: 0.9850\n",
      "Epoch 8/15\n",
      "42000/42000 [==============================] - 37s 891us/step - loss: 0.0421 - accuracy: 0.9866\n",
      "Epoch 9/15\n",
      "42000/42000 [==============================] - 36s 854us/step - loss: 0.0350 - accuracy: 0.9890\n",
      "Epoch 10/15\n",
      "42000/42000 [==============================] - 39s 937us/step - loss: 0.0310 - accuracy: 0.9898\n",
      "Epoch 11/15\n",
      "42000/42000 [==============================] - 39s 929us/step - loss: 0.0257 - accuracy: 0.9920\n",
      "Epoch 12/15\n",
      "42000/42000 [==============================] - 40s 945us/step - loss: 0.0240 - accuracy: 0.9920\n",
      "Epoch 13/15\n",
      "42000/42000 [==============================] - 36s 849us/step - loss: 0.0247 - accuracy: 0.9920\n",
      "Epoch 14/15\n",
      "42000/42000 [==============================] - 31s 737us/step - loss: 0.0211 - accuracy: 0.9932\n",
      "Epoch 15/15\n",
      "42000/42000 [==============================] - 31s 726us/step - loss: 0.0198 - accuracy: 0.9935\n"
     ]
    }
   ],
   "source": [
    "xtrain=trdt.copy()\n",
    "xtrain.drop('label', axis=1, inplace=True)\n",
    "ytrain=trdt['label']\n",
    "xtest=tstdt.copy()\n",
    "\n",
    "xtrain=xtrain/255\n",
    "xtest=xtest/255\n",
    "\n",
    "xtrain=np.array(xtrain)\n",
    "xtest=np.array(xtest)\n",
    "\n",
    "model.compile(optimizer='adam', loss='sparse_categorical_crossentropy', metrics=['accuracy'])\n",
    "model.fit(x=xtrain.reshape(42000, 28, 28, 1),y=ytrain, epochs=15)\n",
    "\n",
    "pred = model.predict(xtest.reshape(28000, 28, 28, 1))\n",
    "pred=np.argmax(pred, axis=1)\n",
    "pred=pd.DataFrame(pred)\n",
    "pred.to_csv('pred.csv')"
   ]
  },
  {
   "cell_type": "code",
   "execution_count": 11,
   "metadata": {},
   "outputs": [],
   "source": [
    "model = Sequential()\n",
    "model.add(Conv2D(28, kernel_size=(5,5), input_shape=(28,28,1)))\n",
    "model.add(Conv2D(28, kernel_size=(3,3)))\n",
    "model.add(MaxPooling2D(pool_size=(2, 2)))\n",
    "model.add(Dropout(0.2))\n",
    "\n",
    "model.add(Conv2D(28, kernel_size=(3,3)))\n",
    "model.add(Conv2D(28, kernel_size=(3,3)))\n",
    "model.add(MaxPooling2D(pool_size=(2, 2)))\n",
    "model.add(Dropout(0.2))\n",
    "\n",
    "model.add(Flatten()) # Flattening the 2D arrays for fully connected layers\n",
    "model.add(Dense(812, activation=tf.nn.relu))\n",
    "model.add(Dropout(0.2))\n",
    "model.add(Dense(1024, activation=tf.nn.relu))\n",
    "model.add(Dense(10,activation=tf.nn.softmax))"
   ]
  },
  {
   "cell_type": "code",
   "execution_count": 12,
   "metadata": {},
   "outputs": [
    {
     "name": "stdout",
     "output_type": "stream",
     "text": [
      "Epoch 1/12\n",
      "42000/42000 [==============================] - 101s 2ms/step - loss: 0.2316 - accuracy: 0.9267\n",
      "Epoch 2/12\n",
      "42000/42000 [==============================] - 106s 3ms/step - loss: 0.1093 - accuracy: 0.9654\n",
      "Epoch 3/12\n",
      "42000/42000 [==============================] - 99s 2ms/step - loss: 0.0948 - accuracy: 0.9707\n",
      "Epoch 4/12\n",
      "42000/42000 [==============================] - 90s 2ms/step - loss: 0.0789 - accuracy: 0.9764\n",
      "Epoch 5/12\n",
      "42000/42000 [==============================] - 92s 2ms/step - loss: 0.0756 - accuracy: 0.9777\n",
      "Epoch 6/12\n",
      "42000/42000 [==============================] - 106s 3ms/step - loss: 0.0731 - accuracy: 0.9790\n",
      "Epoch 7/12\n",
      "42000/42000 [==============================] - 104s 2ms/step - loss: 0.0715 - accuracy: 0.9781\n",
      "Epoch 8/12\n",
      "42000/42000 [==============================] - 99s 2ms/step - loss: 0.0629 - accuracy: 0.9813\n",
      "Epoch 9/12\n",
      "42000/42000 [==============================] - 102s 2ms/step - loss: 0.0677 - accuracy: 0.9803\n",
      "Epoch 10/12\n",
      "42000/42000 [==============================] - 98s 2ms/step - loss: 0.0644 - accuracy: 0.9814\n",
      "Epoch 11/12\n",
      "42000/42000 [==============================] - 100s 2ms/step - loss: 0.0598 - accuracy: 0.9822\n",
      "Epoch 12/12\n",
      "42000/42000 [==============================] - 100s 2ms/step - loss: 0.0592 - accuracy: 0.9835\n"
     ]
    }
   ],
   "source": [
    "xtrain=trdt.copy()\n",
    "xtrain.drop('label', axis=1, inplace=True)\n",
    "ytrain=trdt['label']\n",
    "xtest=tstdt.copy()\n",
    "\n",
    "xtrain=xtrain/255\n",
    "xtest=xtest/255\n",
    "\n",
    "xtrain=np.array(xtrain)\n",
    "xtest=np.array(xtest)\n",
    "\n",
    "model.compile(optimizer='adam', loss='sparse_categorical_crossentropy', metrics=['accuracy'])\n",
    "model.fit(x=xtrain.reshape(42000, 28, 28, 1),y=ytrain, epochs=12)\n",
    "\n",
    "pred = model.predict(xtest.reshape(28000, 28, 28, 1))\n",
    "pred=np.argmax(pred, axis=1)\n",
    "pred=pd.DataFrame(pred)\n",
    "pred.to_csv('pred.csv')"
   ]
  },
  {
   "cell_type": "code",
   "execution_count": null,
   "metadata": {},
   "outputs": [],
   "source": []
  }
 ],
 "metadata": {
  "kernelspec": {
   "display_name": "Python 3",
   "language": "python",
   "name": "python3"
  },
  "language_info": {
   "codemirror_mode": {
    "name": "ipython",
    "version": 3
   },
   "file_extension": ".py",
   "mimetype": "text/x-python",
   "name": "python",
   "nbconvert_exporter": "python",
   "pygments_lexer": "ipython3",
   "version": "3.7.4"
  }
 },
 "nbformat": 4,
 "nbformat_minor": 2
}
