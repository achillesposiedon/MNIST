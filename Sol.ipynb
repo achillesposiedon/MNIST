{
 "cells": [
  {
   "cell_type": "code",
   "execution_count": 15,
   "metadata": {},
   "outputs": [
    {
     "name": "stderr",
     "output_type": "stream",
     "text": [
      "Using TensorFlow backend.\n"
     ]
    }
   ],
   "source": [
    "import pandas as pd\n",
    "import numpy as np\n",
    "import tensorflow as tf\n",
    "\n",
    "from keras.models import Sequential\n",
    "from keras.layers import Dense, Conv2D, Dropout, Flatten, MaxPooling2D\n",
    "\n",
    "(x_train, y_train), (x_test, y_test) = tf.keras.datasets.mnist.load_data()"
   ]
  },
  {
   "cell_type": "code",
   "execution_count": 16,
   "metadata": {},
   "outputs": [
    {
     "name": "stdout",
     "output_type": "stream",
     "text": [
      "4\n"
     ]
    },
    {
     "data": {
      "text/plain": [
       "<matplotlib.image.AxesImage at 0x7f1b1cfe6a90>"
      ]
     },
     "execution_count": 16,
     "metadata": {},
     "output_type": "execute_result"
    },
    {
     "data": {
      "image/png": "[encoded data removed]",
      "text/plain": [
       "<Figure size 432x288 with 1 Axes>"
      ]
     },
     "metadata": {
      "needs_background": "light"
     },
     "output_type": "display_data"
    }
   ],
   "source": [
    "print(y_train[354])\n",
    "plt.imshow(x_train[354], cmap='Greys')"
   ]
  },
  {
   "cell_type": "code",
   "execution_count": 17,
   "metadata": {},
   "outputs": [
    {
     "data": {
      "text/plain": [
       "(60000, 28, 28)"
      ]
     },
     "execution_count": 17,
     "metadata": {},
     "output_type": "execute_result"
    }
   ],
   "source": [
    "x_train.shape"
   ]
  },
  {
   "cell_type": "code",
   "execution_count": 18,
   "metadata": {},
   "outputs": [],
   "source": [
    "# Reshaping the array to 4-dims so that it can work with the Keras API\n",
    "x_train = x_train.reshape(x_train.shape[0], 28, 28, 1)\n",
    "x_test = x_test.reshape(x_test.shape[0], 28, 28, 1)\n",
    "\n",
    "#Normalising\n",
    "x_train = x_train/255\n",
    "x_test = x_test/255"
   ]
  },
  {
   "cell_type": "code",
   "execution_count": 34,
   "metadata": {},
   "outputs": [
    {
     "data": {
      "text/plain": [
       "(10000, 28, 28, 1)"
      ]
     },
     "execution_count": 34,
     "metadata": {},
     "output_type": "execute_result"
    }
   ],
   "source": [
    "x_test.shape"
   ]
  },
  {
   "cell_type": "code",
   "execution_count": 20,
   "metadata": {
    "scrolled": true
   },
   "outputs": [
    {
     "data": {
      "text/plain": [
       "array([[0.],\n",
       "       [0.],\n",
       "       [0.],\n",
       "       [0.],\n",
       "       [0.],\n",
       "       [0.],\n",
       "       [0.],\n",
       "       [0.],\n",
       "       [0.],\n",
       "       [0.],\n",
       "       [0.],\n",
       "       [0.],\n",
       "       [0.],\n",
       "       [0.],\n",
       "       [0.],\n",
       "       [0.],\n",
       "       [0.],\n",
       "       [0.],\n",
       "       [0.],\n",
       "       [0.],\n",
       "       [0.],\n",
       "       [0.],\n",
       "       [0.],\n",
       "       [0.],\n",
       "       [0.],\n",
       "       [0.],\n",
       "       [0.],\n",
       "       [0.]])"
      ]
     },
     "execution_count": 20,
     "metadata": {},
     "output_type": "execute_result"
    }
   ],
   "source": [
    "x_train[354][2]"
   ]
  },
  {
   "cell_type": "code",
   "execution_count": 30,
   "metadata": {},
   "outputs": [],
   "source": [
    "model = Sequential()\n",
    "model.add(Conv2D(28, kernel_size=(3,3), input_shape=(28,28,1)))\n",
    "model.add(MaxPooling2D(pool_size=(2, 2)))\n",
    "model.add(Flatten()) # Flattening the 2D arrays for fully connected layers\n",
    "model.add(Dense(128, activation=tf.nn.relu))\n",
    "model.add(Dropout(0.2))\n",
    "model.add(Dense(10,activation=tf.nn.softmax))"
   ]
  },
  {
   "cell_type": "code",
   "execution_count": 31,
   "metadata": {},
   "outputs": [
    {
     "name": "stdout",
     "output_type": "stream",
     "text": [
      "Epoch 1/10\n",
      "60000/60000 [==============================] - 27s 456us/step - loss: 0.2037 - accuracy: 0.9384\n",
      "Epoch 2/10\n",
      "60000/60000 [==============================] - 26s 425us/step - loss: 0.0834 - accuracy: 0.9747\n",
      "Epoch 3/10\n",
      "60000/60000 [==============================] - 27s 444us/step - loss: 0.0592 - accuracy: 0.9812\n",
      "Epoch 4/10\n",
      "60000/60000 [==============================] - 26s 438us/step - loss: 0.0452 - accuracy: 0.9853\n",
      "Epoch 5/10\n",
      "60000/60000 [==============================] - 25s 418us/step - loss: 0.0338 - accuracy: 0.9887\n",
      "Epoch 6/10\n",
      "60000/60000 [==============================] - 25s 416us/step - loss: 0.0274 - accuracy: 0.9908\n",
      "Epoch 7/10\n",
      "60000/60000 [==============================] - 25s 418us/step - loss: 0.0245 - accuracy: 0.9916\n",
      "Epoch 8/10\n",
      "60000/60000 [==============================] - 25s 419us/step - loss: 0.0244 - accuracy: 0.9918\n",
      "Epoch 9/10\n",
      "60000/60000 [==============================] - 28s 473us/step - loss: 0.0185 - accuracy: 0.9933\n",
      "Epoch 10/10\n",
      "60000/60000 [==============================] - 34s 567us/step - loss: 0.0193 - accuracy: 0.9932\n"
     ]
    },
    {
     "data": {
      "text/plain": [
       "<keras.callbacks.callbacks.History at 0x7f1aee588f50>"
      ]
     },
     "execution_count": 31,
     "metadata": {},
     "output_type": "execute_result"
    }
   ],
   "source": [
    "model.compile(optimizer='adam', loss='sparse_categorical_crossentropy', metrics=['accuracy'])\n",
    "model.fit(x=x_train,y=y_train, epochs=10)"
   ]
  },
  {
   "cell_type": "code",
   "execution_count": 32,
   "metadata": {},
   "outputs": [
    {
     "name": "stdout",
     "output_type": "stream",
     "text": [
      "10000/10000 [==============================] - 3s 254us/step\n"
     ]
    },
    {
     "data": {
      "text/plain": [
       "[0.05856751230579518, 0.9850999712944031]"
      ]
     },
     "execution_count": 32,
     "metadata": {},
     "output_type": "execute_result"
    }
   ],
   "source": [
    "model.evaluate(x_test, y_test)"
   ]
  },
  {
   "cell_type": "code",
   "execution_count": 38,
   "metadata": {},
   "outputs": [
    {
     "data": {
      "image/png": "[encoded data removed]",
      "text/plain": [
       "<Figure size 432x288 with 1 Axes>"
      ]
     },
     "metadata": {
      "needs_background": "light"
     },
     "output_type": "display_data"
    }
   ],
   "source": [
    "image_index = 4\n",
    "plt.imshow(x_test[image_index].reshape(28, 28),cmap='Greys')\n",
    "pred = model.predict(x_test.reshape(10000, 28, 28, 1))\n",
    "pred=np.argmax(pred, axis=1)\n",
    "pred=pd.DataFrame(pred)\n",
    "pred.to_csv('pred.csv')"
   ]
  },
  {
   "cell_type": "code",
   "execution_count": 27,
   "metadata": {},
   "outputs": [
    {
     "name": "stdout",
     "output_type": "stream",
     "text": [
      "Epoch 1/10\n",
      "60000/60000 [==============================] - 55s 919us/step - loss: 0.1798 - accuracy: 0.9460\n",
      "Epoch 2/10\n",
      "60000/60000 [==============================] - 53s 877us/step - loss: 0.0695 - accuracy: 0.9785\n",
      "Epoch 3/10\n",
      "60000/60000 [==============================] - 54s 902us/step - loss: 0.0441 - accuracy: 0.9861\n",
      "Epoch 4/10\n",
      "60000/60000 [==============================] - 54s 908us/step - loss: 0.0338 - accuracy: 0.9888\n",
      "Epoch 5/10\n",
      "60000/60000 [==============================] - 57s 955us/step - loss: 0.0249 - accuracy: 0.9918\n",
      "Epoch 6/10\n",
      "60000/60000 [==============================] - 51s 843us/step - loss: 0.0211 - accuracy: 0.9928\n",
      "Epoch 7/10\n",
      "60000/60000 [==============================] - 50s 832us/step - loss: 0.0185 - accuracy: 0.9939\n",
      "Epoch 8/10\n",
      "60000/60000 [==============================] - 49s 811us/step - loss: 0.0149 - accuracy: 0.9947\n",
      "Epoch 9/10\n",
      "60000/60000 [==============================] - 53s 883us/step - loss: 0.0132 - accuracy: 0.9955\n",
      "Epoch 10/10\n",
      "60000/60000 [==============================] - 54s 908us/step - loss: 0.0143 - accuracy: 0.9949\n",
      "10000/10000 [==============================] - 3s 271us/step\n"
     ]
    },
    {
     "data": {
      "text/plain": [
       "[0.06933275547593844, 0.9836000204086304]"
      ]
     },
     "execution_count": 27,
     "metadata": {},
     "output_type": "execute_result"
    }
   ],
   "source": [
    "model = Sequential()\n",
    "model.add(Conv2D(28, kernel_size=(3,3), input_shape=(28,28,1)))\n",
    "model.add(MaxPooling2D(pool_size=(2, 2)))\n",
    "model.add(Flatten()) # Flattening the 2D arrays for fully connected layers\n",
    "model.add(Dense(256, activation=tf.nn.relu))\n",
    "model.add(Dropout(0.2))\n",
    "model.add(Dense(10,activation=tf.nn.softmax))\n",
    "\n",
    "model.compile(optimizer='adam', loss='sparse_categorical_crossentropy', metrics=['accuracy'])\n",
    "model.fit(x=x_train,y=y_train, epochs=10)\n",
    "\n",
    "model.evaluate(x_test, y_test)"
   ]
  },
  {
   "cell_type": "code",
   "execution_count": 28,
   "metadata": {},
   "outputs": [
    {
     "name": "stdout",
     "output_type": "stream",
     "text": [
      "Epoch 1/10\n",
      "60000/60000 [==============================] - 26s 432us/step - loss: 0.2463 - accuracy: 0.9270\n",
      "Epoch 2/10\n",
      "60000/60000 [==============================] - 22s 359us/step - loss: 0.1091 - accuracy: 0.9676\n",
      "Epoch 3/10\n",
      "60000/60000 [==============================] - 22s 360us/step - loss: 0.0785 - accuracy: 0.9753\n",
      "Epoch 4/10\n",
      "60000/60000 [==============================] - 23s 389us/step - loss: 0.0627 - accuracy: 0.9799\n",
      "Epoch 5/10\n",
      "60000/60000 [==============================] - 26s 436us/step - loss: 0.0535 - accuracy: 0.9830\n",
      "Epoch 6/10\n",
      "60000/60000 [==============================] - 30s 492us/step - loss: 0.0426 - accuracy: 0.9862\n",
      "Epoch 7/10\n",
      "60000/60000 [==============================] - 36s 599us/step - loss: 0.0399 - accuracy: 0.9868\n",
      "Epoch 8/10\n",
      "60000/60000 [==============================] - 27s 457us/step - loss: 0.0351 - accuracy: 0.9881\n",
      "Epoch 9/10\n",
      "60000/60000 [==============================] - 27s 449us/step - loss: 0.0294 - accuracy: 0.9898\n",
      "Epoch 10/10\n",
      "60000/60000 [==============================] - 27s 454us/step - loss: 0.0285 - accuracy: 0.9900\n",
      "10000/10000 [==============================] - 2s 212us/step\n"
     ]
    },
    {
     "data": {
      "text/plain": [
       "[0.06668803981760175, 0.983299970626831]"
      ]
     },
     "execution_count": 28,
     "metadata": {},
     "output_type": "execute_result"
    }
   ],
   "source": [
    "model = Sequential()\n",
    "model.add(Conv2D(28, kernel_size=(3,3), input_shape=(28,28,1)))\n",
    "model.add(MaxPooling2D(pool_size=(2, 2)))\n",
    "model.add(Flatten()) # Flattening the 2D arrays for fully connected layers\n",
    "model.add(Dense(64, activation=tf.nn.relu))\n",
    "model.add(Dropout(0.2))\n",
    "model.add(Dense(10,activation=tf.nn.softmax))\n",
    "\n",
    "model.compile(optimizer='adam', loss='sparse_categorical_crossentropy', metrics=['accuracy'])\n",
    "model.fit(x=x_train,y=y_train, epochs=10)\n",
    "\n",
    "model.evaluate(x_test, y_test)"
   ]
  },
  {
   "cell_type": "code",
   "execution_count": 29,
   "metadata": {},
   "outputs": [
    {
     "name": "stdout",
     "output_type": "stream",
     "text": [
      "Epoch 1/10\n",
      "60000/60000 [==============================] - 180s 3ms/step - loss: 0.1517 - accuracy: 0.9537\n",
      "Epoch 2/10\n",
      "60000/60000 [==============================] - 153s 3ms/step - loss: 0.0581 - accuracy: 0.9819\n",
      "Epoch 3/10\n",
      "60000/60000 [==============================] - 152s 3ms/step - loss: 0.0367 - accuracy: 0.9887\n",
      "Epoch 4/10\n",
      "60000/60000 [==============================] - 164s 3ms/step - loss: 0.0268 - accuracy: 0.9912\n",
      "Epoch 5/10\n",
      "60000/60000 [==============================] - 151s 3ms/step - loss: 0.0211 - accuracy: 0.9930\n",
      "Epoch 6/10\n",
      "60000/60000 [==============================] - 160s 3ms/step - loss: 0.0165 - accuracy: 0.9946\n",
      "Epoch 7/10\n",
      "60000/60000 [==============================] - 161s 3ms/step - loss: 0.0168 - accuracy: 0.9944\n",
      "Epoch 8/10\n",
      "60000/60000 [==============================] - 167s 3ms/step - loss: 0.0133 - accuracy: 0.9958\n",
      "Epoch 9/10\n",
      "60000/60000 [==============================] - 163s 3ms/step - loss: 0.0148 - accuracy: 0.9955\n",
      "Epoch 10/10\n",
      "60000/60000 [==============================] - 168s 3ms/step - loss: 0.0122 - accuracy: 0.9966\n",
      "10000/10000 [==============================] - 3s 273us/step\n"
     ]
    },
    {
     "data": {
      "text/plain": [
       "[0.10343642551109651, 0.9830999970436096]"
      ]
     },
     "execution_count": 29,
     "metadata": {},
     "output_type": "execute_result"
    }
   ],
   "source": [
    "model = Sequential()\n",
    "model.add(Conv2D(28, kernel_size=(3,3), input_shape=(28,28,1)))\n",
    "model.add(MaxPooling2D(pool_size=(2, 2)))\n",
    "model.add(Flatten()) # Flattening the 2D arrays for fully connected layers\n",
    "model.add(Dense(1024, activation=tf.nn.relu))\n",
    "model.add(Dropout(0.2))\n",
    "model.add(Dense(10,activation=tf.nn.softmax))\n",
    "\n",
    "model.compile(optimizer='adam', loss='sparse_categorical_crossentropy', metrics=['accuracy'])\n",
    "model.fit(x=x_train,y=y_train, epochs=10)\n",
    "\n",
    "model.evaluate(x_test, y_test)"
   ]
  },
  {
   "cell_type": "code",
   "execution_count": null,
   "metadata": {},
   "outputs": [],
   "source": []
  }
 ],
 "metadata": {
  "kernelspec": {
   "display_name": "Python 3",
   "language": "python",
   "name": "python3"
  },
  "language_info": {
   "codemirror_mode": {
    "name": "ipython",
    "version": 3
   },
   "file_extension": ".py",
   "mimetype": "text/x-python",
   "name": "python",
   "nbconvert_exporter": "python",
   "pygments_lexer": "ipython3",
   "version": "3.7.4"
  }
 },
 "nbformat": 4,
 "nbformat_minor": 2
}
